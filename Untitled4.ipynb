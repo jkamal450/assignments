{
  "nbformat": 4,
  "nbformat_minor": 0,
  "metadata": {
    "colab": {
      "name": "Untitled4.ipynb",
      "provenance": []
    },
    "kernelspec": {
      "name": "python3",
      "display_name": "Python 3"
    }
  },
  "cells": [
    {
      "cell_type": "code",
      "metadata": {
        "id": "urKBMnHidY4z",
        "colab_type": "code",
        "colab": {
          "base_uri": "https://localhost:8080/",
          "height": 34
        },
        "outputId": "a92f2afb-62b3-480c-9fee-8e3a97f0aea8"
      },
      "source": [
        "def red(func,lst):\n",
        "  sum=lst[0]\n",
        "  for i in lst[1:]:\n",
        "    sum=addition(sum,i)\n",
        "  return sum\n",
        "def addition(x,y):\n",
        "  return x+y \n",
        "print(red(addition,[1,2,3,4,5]))\n"
      ],
      "execution_count": 26,
      "outputs": [
        {
          "output_type": "stream",
          "text": [
            "15\n"
          ],
          "name": "stdout"
        }
      ]
    },
    {
      "cell_type": "code",
      "metadata": {
        "id": "UWO84rDfe5Jd",
        "colab_type": "code",
        "colab": {
          "base_uri": "https://localhost:8080/",
          "height": 68
        },
        "outputId": "e37e997b-1905-430d-de03-fcbe6ff950a1"
      },
      "source": [
        "marks=[20,30,33,54,97,85]\n",
        "def myfilter(func,marks):\n",
        "  passed=[]\n",
        "  for i in marks:\n",
        "    if func(i):\n",
        "      passed.append(i)\n",
        "  return passed\n",
        "def test(a):\n",
        "  if a>33:\n",
        "    return True\n",
        "  else:\n",
        "    return False\n",
        "\n",
        "passed=myfilter(test,marks) \n",
        "\n",
        "for i in passed:\n",
        "  print(i)\n",
        "\n"
      ],
      "execution_count": 34,
      "outputs": [
        {
          "output_type": "stream",
          "text": [
            "54\n",
            "97\n",
            "85\n"
          ],
          "name": "stdout"
        }
      ]
    },
    {
      "cell_type": "code",
      "metadata": {
        "id": "NH_UGNiIHSjD",
        "colab_type": "code",
        "outputId": "7aabb317-8d0a-46b8-c1a3-0976bc6a0213",
        "colab": {
          "base_uri": "https://localhost:8080/",
          "height": 34
        }
      },
      "source": [
        "word=\"ACADGILD\"\n",
        "list=[x for x in word]\n",
        "print(list)"
      ],
      "execution_count": 0,
      "outputs": [
        {
          "output_type": "stream",
          "text": [
            "['A', 'C', 'A', 'D', 'G', 'I', 'L', 'D']\n"
          ],
          "name": "stdout"
        }
      ]
    },
    {
      "cell_type": "code",
      "metadata": {
        "id": "gF4zyvnvLybV",
        "colab_type": "code",
        "outputId": "a6fbb19f-2805-4440-e0cd-d2e697084e0e",
        "colab": {
          "base_uri": "https://localhost:8080/",
          "height": 34
        }
      },
      "source": [
        "word=\"xyz\"\n",
        "list=[i*n for i in word for n in range(1,5)]\n",
        "print(list)"
      ],
      "execution_count": 0,
      "outputs": [
        {
          "output_type": "stream",
          "text": [
            "['x', 'xx', 'xxx', 'xxxx', 'y', 'yy', 'yyy', 'yyyy', 'z', 'zz', 'zzz', 'zzzz']\n"
          ],
          "name": "stdout"
        }
      ]
    },
    {
      "cell_type": "code",
      "metadata": {
        "id": "x_ag5EvFBh8V",
        "colab_type": "code",
        "colab": {}
      },
      "source": [
        ""
      ],
      "execution_count": 0,
      "outputs": []
    },
    {
      "cell_type": "code",
      "metadata": {
        "id": "Wkkur8YIR_5t",
        "colab_type": "code",
        "outputId": "4e1b77a3-2a00-4e0b-cd86-6df5671b6809",
        "colab": {
          "base_uri": "https://localhost:8080/",
          "height": 34
        }
      },
      "source": [
        "word=\"xyz\"\n",
        "list=[i*n for n in range(1,5) for i in word]\n",
        "print(list)"
      ],
      "execution_count": 0,
      "outputs": [
        {
          "output_type": "stream",
          "text": [
            "['x', 'y', 'z', 'xx', 'yy', 'zz', 'xxx', 'yyy', 'zzz', 'xxxx', 'yyyy', 'zzzz']\n"
          ],
          "name": "stdout"
        }
      ]
    },
    {
      "cell_type": "code",
      "metadata": {
        "id": "xxTwpztVTpg1",
        "colab_type": "code",
        "outputId": "7fd8100f-ee18-41ff-ea70-434a185b7d65",
        "colab": {
          "base_uri": "https://localhost:8080/",
          "height": 34
        }
      },
      "source": [
        "digits=[2,3,4]\n",
        "list=[[i+n] for i in digits for n in range(0,3)]\n",
        "print(list)"
      ],
      "execution_count": 0,
      "outputs": [
        {
          "output_type": "stream",
          "text": [
            "[[2], [3], [4], [3], [4], [5], [4], [5], [6]]\n"
          ],
          "name": "stdout"
        }
      ]
    },
    {
      "cell_type": "code",
      "metadata": {
        "id": "PkJGOU3AUzts",
        "colab_type": "code",
        "outputId": "c2f8919c-13db-4685-cc8e-d7a8592b09a5",
        "colab": {
          "base_uri": "https://localhost:8080/",
          "height": 34
        }
      },
      "source": [
        "digits=[2,3,4,5]\n",
        "list=[[i+n for i in digits] for n in range(0,4)]\n",
        "print(list)"
      ],
      "execution_count": 0,
      "outputs": [
        {
          "output_type": "stream",
          "text": [
            "[[2, 3, 4, 5], [3, 4, 5, 6], [4, 5, 6, 7], [5, 6, 7, 8]]\n"
          ],
          "name": "stdout"
        }
      ]
    },
    {
      "cell_type": "code",
      "metadata": {
        "id": "2dfj-bOgWfOI",
        "colab_type": "code",
        "outputId": "a18d33f0-d67e-46fd-d898-a8f013b9cca1",
        "colab": {
          "base_uri": "https://localhost:8080/",
          "height": 34
        }
      },
      "source": [
        "input=[1,2,3]\n",
        "list=[(b,a) for a in input for b in input ]\n",
        "print(list)"
      ],
      "execution_count": 0,
      "outputs": [
        {
          "output_type": "stream",
          "text": [
            "[(1, 1), (2, 1), (3, 1), (1, 2), (2, 2), (3, 2), (1, 3), (2, 3), (3, 3)]\n"
          ],
          "name": "stdout"
        }
      ]
    },
    {
      "cell_type": "code",
      "metadata": {
        "id": "-SepSte7Bl9q",
        "colab_type": "code",
        "colab": {
          "base_uri": "https://localhost:8080/",
          "height": 34
        },
        "outputId": "44d95b48-aaac-472d-afdf-99f374def77f"
      },
      "source": [
        "def longestword(words):\n",
        "  words=sorted(words,key=len,reverse=True)\n",
        "  return words[0]\n",
        "words=['mariah', 'Dua','janetjackson','ladygaga','Rihanna']\n",
        "print(longestword(words))\n",
        "\n"
      ],
      "execution_count": 7,
      "outputs": [
        {
          "output_type": "stream",
          "text": [
            "janetjackson\n"
          ],
          "name": "stdout"
        }
      ]
    },
    {
      "cell_type": "code",
      "metadata": {
        "id": "ixzWHTiqJoOa",
        "colab_type": "code",
        "colab": {
          "base_uri": "https://localhost:8080/",
          "height": 85
        },
        "outputId": "b43dfb52-0798-4975-bfbd-dd051c81e4eb"
      },
      "source": [
        "import sys\n",
        "import math\n",
        "a = float(input(\"first side:\"))\n",
        "b = float(input(\"second side:\"))\n",
        "c = float(input(\"third side:\"))\n",
        "class triangle():\n",
        "   def __init__(self,a,b,c):\n",
        "       self.a = a\n",
        "       self.b = b\n",
        "       self.c = c\n",
        "   def area(self):\n",
        "       s=(a + b + c)/2\n",
        "       area=math.sqrt(s*(s-a)*(s-b)*(s-c))\n",
        "       return area\n",
        "print (triangle(a,b,c).area())"
      ],
      "execution_count": 14,
      "outputs": [
        {
          "output_type": "stream",
          "text": [
            "first side:3\n",
            "second side:4\n",
            "third side:5\n",
            "6.0\n"
          ],
          "name": "stdout"
        }
      ]
    },
    {
      "cell_type": "code",
      "metadata": {
        "id": "nVjV5wymTCCe",
        "colab_type": "code",
        "colab": {
          "base_uri": "https://localhost:8080/",
          "height": 34
        },
        "outputId": "360bc3e4-75fc-47d7-c994-38288e26bb3c"
      },
      "source": [
        "def filter_long_words(words, n):\n",
        "    return [word for word in words if len(word) > n]\n",
        "words=['gaga','katyperry','kesha','nickiminaj']\n",
        "filter_long_words(words,5)\n",
        "\n"
      ],
      "execution_count": 21,
      "outputs": [
        {
          "output_type": "execute_result",
          "data": {
            "text/plain": [
              "['katyperry', 'nickiminaj']"
            ]
          },
          "metadata": {
            "tags": []
          },
          "execution_count": 21
        }
      ]
    },
    {
      "cell_type": "code",
      "metadata": {
        "id": "I9mXdd-sXZ5N",
        "colab_type": "code",
        "colab": {
          "base_uri": "https://localhost:8080/",
          "height": 34
        },
        "outputId": "08ee9044-88d2-49e3-ee59-9ad233e77456"
      },
      "source": [
        "words=['modi','amitshah','mayavati',\"soniagandhi\"]\n",
        "def list_to_length(words):\n",
        "    return [len(word) for word in words]\n",
        "print(list_to_length(words))\n",
        "\n",
        "\n",
        "\n",
        "                          "
      ],
      "execution_count": 50,
      "outputs": [
        {
          "output_type": "stream",
          "text": [
            "[4, 8, 8, 11]\n"
          ],
          "name": "stdout"
        }
      ]
    },
    {
      "cell_type": "code",
      "metadata": {
        "id": "w8pmwprsuDbB",
        "colab_type": "code",
        "colab": {
          "base_uri": "https://localhost:8080/",
          "height": 51
        },
        "outputId": "fdad9267-af5d-4cec-97e1-6b5a3f4c4785"
      },
      "source": [
        "def is_vowel(char):\n",
        "    all_vowels = 'aeiou'\n",
        "    return char in all_vowels\n",
        "print(is_vowel('e'))\n",
        "print(is_vowel('a'))"
      ],
      "execution_count": 46,
      "outputs": [
        {
          "output_type": "stream",
          "text": [
            "True\n",
            "True\n"
          ],
          "name": "stdout"
        }
      ]
    },
    {
      "cell_type": "code",
      "metadata": {
        "id": "gDzkocCidPul",
        "colab_type": "code",
        "colab": {}
      },
      "source": [
        ""
      ],
      "execution_count": 0,
      "outputs": []
    }
  ]
}