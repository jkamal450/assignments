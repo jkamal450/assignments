{
  "nbformat": 4,
  "nbformat_minor": 0,
  "metadata": {
    "colab": {
      "name": "Untitled6.ipynb",
      "provenance": [],
      "collapsed_sections": []
    },
    "kernelspec": {
      "name": "python3",
      "display_name": "Python 3"
    }
  },
  "cells": [
    {
      "cell_type": "code",
      "metadata": {
        "id": "ZwBoJYvW5LLW",
        "colab_type": "code",
        "colab": {
          "base_uri": "https://localhost:8080/",
          "height": 34
        },
        "outputId": "6ce05d78-ca5e-42e4-97ba-fbeb392af4a5"
      },
      "source": [
        "def divide(a,b):\n",
        "  try:\n",
        "    answer=a//b\n",
        "    print(\"result is: \",answer)\n",
        "  except ZeroDivisionError:\n",
        "    print(\"Sorry, division with 0 in denominator is invalid \")\n",
        "\n",
        "divide(5,0)\n"
      ],
      "execution_count": 6,
      "outputs": [
        {
          "output_type": "stream",
          "text": [
            "Sorry, division with 0 in denominator is invalid \n"
          ],
          "name": "stdout"
        }
      ]
    },
    {
      "cell_type": "code",
      "metadata": {
        "id": "AlTWMtvYnyYM",
        "colab_type": "code",
        "colab": {
          "base_uri": "https://localhost:8080/",
          "height": 153
        },
        "outputId": "9cec9669-b45f-4c44-fdb5-5d4457ccee2f"
      },
      "source": [
        "subjects=[\"Americans \",\"Indians\"]\n",
        "verbs=[\"play\",\"watch\"]\n",
        "objects=[\"Baseball\",\"Cricket\"]\n",
        "\n",
        "sentences=[(a+\"\"+ \" \"+b+\" \"+c)for a in subjects for b in verbs for c in objects]\n",
        "for i in sentences:\n",
        "  print(i)\n",
        "\n"
      ],
      "execution_count": 10,
      "outputs": [
        {
          "output_type": "stream",
          "text": [
            "Americans  play Baseball\n",
            "Americans  play Cricket\n",
            "Americans  watch Baseball\n",
            "Americans  watch Cricket\n",
            "Indians play Baseball\n",
            "Indians play Cricket\n",
            "Indians watch Baseball\n",
            "Indians watch Cricket\n"
          ],
          "name": "stdout"
        }
      ]
    },
    {
      "cell_type": "code",
      "metadata": {
        "id": "e78Buysrz-Wf",
        "colab_type": "code",
        "colab": {
          "base_uri": "https://localhost:8080/",
          "height": 85
        },
        "outputId": "bf810fce-7fb8-4ebd-b0d1-573d246afe41"
      },
      "source": [
        "import numpy as np\n",
        "a=np.array([1,2,3,4])\n",
        "np.vander(a,6)\n",
        "\n"
      ],
      "execution_count": 14,
      "outputs": [
        {
          "output_type": "execute_result",
          "data": {
            "text/plain": [
              "array([[   1,    1,    1,    1,    1,    1],\n",
              "       [  32,   16,    8,    4,    2,    1],\n",
              "       [ 243,   81,   27,    9,    3,    1],\n",
              "       [1024,  256,   64,   16,    4,    1]])"
            ]
          },
          "metadata": {
            "tags": []
          },
          "execution_count": 14
        }
      ]
    },
    {
      "cell_type": "code",
      "metadata": {
        "id": "Cey-KeCwrBwr",
        "colab_type": "code",
        "colab": {}
      },
      "source": [
        ""
      ],
      "execution_count": 0,
      "outputs": []
    }
  ]
}